{
  "nbformat": 4,
  "nbformat_minor": 0,
  "metadata": {
    "colab": {
      "provenance": [],
      "collapsed_sections": [
        "VnfIYM09B42D",
        "mle1b-V16LD8",
        "BFd1g8R7eVY2",
        "nrB8ptE9hIjV",
        "bAr0hkO-DB4w",
        "whDQchWhEGbm",
        "4-wbjaXHFyqR",
        "7XBGNE9NGzHu",
        "P6D7yo3QHkWj",
        "-VR-QGrAGLNc",
        "UfYhcdJEGk1L",
        "6XWm8EuvHBkD",
        "ZXmapSpyn2rW",
        "RvoNoWT0omDX",
        "xbliDXxDo4-y",
        "3JegTW5ao4_S",
        "BA6RlDljo4_V",
        "CdftqR_Go4_X",
        "SafkgfmapnJT",
        "IioFDrJG23RE",
        "4_0bHhzXguxT",
        "l5zVUoP8kcy1",
        "DphNdAn6lRwN"
      ]
    },
    "kernelspec": {
      "name": "python3",
      "display_name": "Python 3"
    },
    "language_info": {
      "name": "python"
    }
  },
  "cells": [
    {
      "cell_type": "markdown",
      "source": [
        "# Carregando o dataset breast_cancer\n",
        "\n"
      ],
      "metadata": {
        "id": "VnfIYM09B42D"
      }
    },
    {
      "cell_type": "code",
      "source": [
        "from sklearn.datasets import load_breast_cancer\n",
        "import pandas as pd\n",
        "import numpy as np\n",
        "cancer = load_breast_cancer()\n",
        "X, y = cancer.data, cancer.target\n",
        "\n",
        "\n",
        "dataCancer = pd.DataFrame(cancer.data, columns=cancer.feature_names)\n",
        "dataCancer['target'] = cancer.target\n",
        "\n",
        "dataCancer.shape"
      ],
      "metadata": {
        "id": "1bgTQiUVCAG9",
        "colab": {
          "base_uri": "https://localhost:8080/"
        },
        "outputId": "4bbbf35c-efc8-44fd-aa09-818284d99edf"
      },
      "execution_count": null,
      "outputs": [
        {
          "output_type": "execute_result",
          "data": {
            "text/plain": [
              "(569, 31)"
            ]
          },
          "metadata": {},
          "execution_count": 147
        }
      ]
    },
    {
      "cell_type": "markdown",
      "source": [
        "Verificando os tipos dos atributos"
      ],
      "metadata": {
        "id": "P9EvhKL23FzL"
      }
    },
    {
      "cell_type": "code",
      "source": [
        "#dataCancer.info()"
      ],
      "metadata": {
        "id": "xSTJVhPaG3VO"
      },
      "execution_count": null,
      "outputs": []
    },
    {
      "cell_type": "markdown",
      "source": [
        "Verificando se existe algum valor missing"
      ],
      "metadata": {
        "id": "Vr1Z2Lie3B7f"
      }
    },
    {
      "cell_type": "code",
      "source": [
        "#dataCancer.isna().sum()\n"
      ],
      "metadata": {
        "id": "hz2BEd_329-E"
      },
      "execution_count": null,
      "outputs": []
    },
    {
      "cell_type": "markdown",
      "source": [
        "Nenhum atributo categorico e nenhum valor missing"
      ],
      "metadata": {
        "id": "FMlzt4vj3drw"
      }
    },
    {
      "cell_type": "code",
      "source": [
        "#dataCancer[\"target\"].value_counts()\n"
      ],
      "metadata": {
        "id": "03MSTlw33h7n"
      },
      "execution_count": null,
      "outputs": []
    },
    {
      "cell_type": "markdown",
      "source": [
        "357 benign e 212 malignant"
      ],
      "metadata": {
        "id": "T_IwxR_k3xB8"
      }
    },
    {
      "cell_type": "markdown",
      "source": [
        "SEPARANDO TREINO E TESTE"
      ],
      "metadata": {
        "id": "4KlHuByj6H_V"
      }
    },
    {
      "cell_type": "code",
      "source": [
        "from sklearn.model_selection import train_test_split\n",
        "\n",
        "x_treino, x_teste, y_treino, y_teste = train_test_split(X, y,random_state=0,test_size=0.2,stratify=y)"
      ],
      "metadata": {
        "id": "4ORveIiK5CVI"
      },
      "execution_count": null,
      "outputs": []
    },
    {
      "cell_type": "markdown",
      "source": [
        "# GaussianNB"
      ],
      "metadata": {
        "id": "mle1b-V16LD8"
      }
    },
    {
      "cell_type": "code",
      "source": [
        "from sklearn.naive_bayes import GaussianNB\n",
        "\n",
        "naive = GaussianNB()\n",
        "model_nb = naive.fit(x_treino,y_treino)\n"
      ],
      "metadata": {
        "id": "ZGpq6jHu6N8A"
      },
      "execution_count": null,
      "outputs": []
    },
    {
      "cell_type": "code",
      "source": [
        "y_true, y_pred = y_teste,model_nb.predict(x_teste)"
      ],
      "metadata": {
        "id": "wSlQAm5_dNli"
      },
      "execution_count": null,
      "outputs": []
    },
    {
      "cell_type": "code",
      "source": [
        "from sklearn.metrics import classification_report\n",
        "print(classification_report(y_true, y_pred))"
      ],
      "metadata": {
        "colab": {
          "base_uri": "https://localhost:8080/"
        },
        "id": "eN7iPKGceKPA",
        "outputId": "5018e537-4e74-4802-bdd1-efaddee48bd5"
      },
      "execution_count": null,
      "outputs": [
        {
          "output_type": "stream",
          "name": "stdout",
          "text": [
            "              precision    recall  f1-score   support\n",
            "\n",
            "           0       0.88      0.90      0.89        42\n",
            "           1       0.94      0.93      0.94        72\n",
            "\n",
            "    accuracy                           0.92       114\n",
            "   macro avg       0.91      0.92      0.92       114\n",
            "weighted avg       0.92      0.92      0.92       114\n",
            "\n"
          ]
        }
      ]
    },
    {
      "cell_type": "code",
      "source": [
        "from sklearn.metrics import f1_score\n",
        "f1_score(y_true, y_pred, average='weighted')"
      ],
      "metadata": {
        "colab": {
          "base_uri": "https://localhost:8080/"
        },
        "id": "y6sN8W9XdkBw",
        "outputId": "c9f6413c-595b-4fb2-99fb-c0e8e14f72a0"
      },
      "execution_count": null,
      "outputs": [
        {
          "output_type": "execute_result",
          "data": {
            "text/plain": [
              "0.9212409881140532"
            ]
          },
          "metadata": {},
          "execution_count": 157
        }
      ]
    },
    {
      "cell_type": "markdown",
      "source": [
        "# KNN"
      ],
      "metadata": {
        "id": "BFd1g8R7eVY2"
      }
    },
    {
      "cell_type": "code",
      "source": [
        "from sklearn.model_selection import GridSearchCV\n",
        "from sklearn.neighbors import KNeighborsClassifier\n",
        "\n",
        "\n",
        "KNN = KNeighborsClassifier()\n",
        "param_grid = {'n_neighbors':[1, 3, 5, 7], 'p':[1, 2]}\n",
        "\n",
        "best_knn = GridSearchCV(KNN, param_grid, scoring=('f1_weighted'), cv=3)\n",
        "\n"
      ],
      "metadata": {
        "id": "NxjsNHomeaDZ"
      },
      "execution_count": null,
      "outputs": []
    },
    {
      "cell_type": "code",
      "source": [
        "model_knn = best_knn.fit(x_treino,y_treino)"
      ],
      "metadata": {
        "id": "DWInJn2ugCvp"
      },
      "execution_count": null,
      "outputs": []
    },
    {
      "cell_type": "code",
      "source": [
        "print(best_knn.best_params_)"
      ],
      "metadata": {
        "colab": {
          "base_uri": "https://localhost:8080/"
        },
        "id": "_1t2WNBIg6-q",
        "outputId": "548448d7-5983-49ec-89d4-a689cbfb3b4e"
      },
      "execution_count": null,
      "outputs": [
        {
          "output_type": "stream",
          "name": "stdout",
          "text": [
            "{'n_neighbors': 7, 'p': 1}\n"
          ]
        }
      ]
    },
    {
      "cell_type": "code",
      "source": [
        "y_true, y_pred = y_teste, model_knn.predict(x_teste)\n",
        "\n",
        "print(classification_report(y_true, y_pred))"
      ],
      "metadata": {
        "colab": {
          "base_uri": "https://localhost:8080/"
        },
        "id": "agqpPBkPgMoP",
        "outputId": "7cc67fd9-a994-47ca-c865-95551ab2dfcc"
      },
      "execution_count": null,
      "outputs": [
        {
          "output_type": "stream",
          "name": "stdout",
          "text": [
            "              precision    recall  f1-score   support\n",
            "\n",
            "           0       0.88      0.86      0.87        42\n",
            "           1       0.92      0.93      0.92        72\n",
            "\n",
            "    accuracy                           0.90       114\n",
            "   macro avg       0.90      0.89      0.90       114\n",
            "weighted avg       0.90      0.90      0.90       114\n",
            "\n"
          ]
        }
      ]
    },
    {
      "cell_type": "code",
      "source": [
        "f1_score(y_true, y_pred, average='weighted')"
      ],
      "metadata": {
        "colab": {
          "base_uri": "https://localhost:8080/"
        },
        "id": "aB7bQhzagdkD",
        "outputId": "5aa24359-1794-4a48-cd31-ca4be6fdb9f1"
      },
      "execution_count": null,
      "outputs": [
        {
          "output_type": "execute_result",
          "data": {
            "text/plain": [
              "0.9032602278442263"
            ]
          },
          "metadata": {},
          "execution_count": 162
        }
      ]
    },
    {
      "cell_type": "markdown",
      "source": [
        "# SVC"
      ],
      "metadata": {
        "id": "nrB8ptE9hIjV"
      }
    },
    {
      "cell_type": "code",
      "source": [
        "from sklearn.svm import SVC\n",
        "\n",
        "clf_svc = SVC()\n",
        "param_grid = {'kernel':['linear', 'poly', 'rbf', 'sigmoid'], 'C':[1, 3, 7]}\n",
        "\n",
        "best_svc = GridSearchCV(clf_svc, param_grid, scoring=('f1_weighted'), cv=3)\n"
      ],
      "metadata": {
        "id": "c9sDEg-ChK1m"
      },
      "execution_count": null,
      "outputs": []
    },
    {
      "cell_type": "code",
      "source": [
        "model_svc = best_svc.fit(x_treino,y_treino)"
      ],
      "metadata": {
        "id": "WdfMNlU0hwBD"
      },
      "execution_count": null,
      "outputs": []
    },
    {
      "cell_type": "code",
      "source": [
        "print(best_svc.best_params_)"
      ],
      "metadata": {
        "colab": {
          "base_uri": "https://localhost:8080/"
        },
        "id": "aKXNZ1uPiBd4",
        "outputId": "6776dc55-0174-4857-ca4f-331fbc91c9e7"
      },
      "execution_count": null,
      "outputs": [
        {
          "output_type": "stream",
          "name": "stdout",
          "text": [
            "{'C': 7, 'kernel': 'linear'}\n"
          ]
        }
      ]
    },
    {
      "cell_type": "code",
      "source": [
        "y_true, y_pred = y_teste,model_svc.predict(x_teste)\n",
        "\n",
        "print(classification_report(y_true, y_pred))"
      ],
      "metadata": {
        "colab": {
          "base_uri": "https://localhost:8080/"
        },
        "id": "2wXq1Zi1iYCt",
        "outputId": "0f8ce285-5a60-4a61-acd2-7936e506b167"
      },
      "execution_count": null,
      "outputs": [
        {
          "output_type": "stream",
          "name": "stdout",
          "text": [
            "              precision    recall  f1-score   support\n",
            "\n",
            "           0       0.95      0.93      0.94        42\n",
            "           1       0.96      0.97      0.97        72\n",
            "\n",
            "    accuracy                           0.96       114\n",
            "   macro avg       0.96      0.95      0.95       114\n",
            "weighted avg       0.96      0.96      0.96       114\n",
            "\n"
          ]
        }
      ]
    },
    {
      "cell_type": "code",
      "source": [
        "f1_score(y_true, y_pred, average='weighted')"
      ],
      "metadata": {
        "colab": {
          "base_uri": "https://localhost:8080/"
        },
        "id": "Q7QD0uH6idxc",
        "outputId": "9ca1c770-6210-49f5-e8e4-dceac38bd4b7"
      },
      "execution_count": null,
      "outputs": [
        {
          "output_type": "execute_result",
          "data": {
            "text/plain": [
              "0.9560273762928301"
            ]
          },
          "metadata": {},
          "execution_count": 167
        }
      ]
    },
    {
      "cell_type": "markdown",
      "source": [
        "# DecisionTreeClassifier"
      ],
      "metadata": {
        "id": "bAr0hkO-DB4w"
      }
    },
    {
      "cell_type": "code",
      "source": [
        "from sklearn.tree import DecisionTreeClassifier\n",
        "clf_dtc = DecisionTreeClassifier(random_state=0)\n"
      ],
      "metadata": {
        "id": "MVlNtcMNDEvX"
      },
      "execution_count": null,
      "outputs": []
    },
    {
      "cell_type": "code",
      "source": [
        "param_grid = {'criterion':['gini', 'entropy'], 'max_depth':[3, 7, 9]}\n",
        "best_dtc = GridSearchCV(clf_dtc, param_grid, scoring=('f1_weighted'), cv=3)"
      ],
      "metadata": {
        "id": "h7FUvWAdDIhy"
      },
      "execution_count": null,
      "outputs": []
    },
    {
      "cell_type": "code",
      "source": [
        "model_dtc = best_dtc.fit(x_treino,y_treino)"
      ],
      "metadata": {
        "id": "PRsdrr8qDWeK"
      },
      "execution_count": null,
      "outputs": []
    },
    {
      "cell_type": "code",
      "source": [
        "print(best_dtc.best_params_)"
      ],
      "metadata": {
        "colab": {
          "base_uri": "https://localhost:8080/"
        },
        "id": "Q4WWxaMDDZhV",
        "outputId": "28fef555-a055-483c-a509-17d106ad36d3"
      },
      "execution_count": null,
      "outputs": [
        {
          "output_type": "stream",
          "name": "stdout",
          "text": [
            "{'criterion': 'gini', 'max_depth': 3}\n"
          ]
        }
      ]
    },
    {
      "cell_type": "code",
      "source": [
        "y_pred = model_dtc.predict(x_teste)\n",
        "\n",
        "print(classification_report(y_teste, y_pred))"
      ],
      "metadata": {
        "colab": {
          "base_uri": "https://localhost:8080/"
        },
        "id": "LXinkp_1Djaj",
        "outputId": "5043f4ee-b63f-4bd9-9891-25b1efb44596"
      },
      "execution_count": null,
      "outputs": [
        {
          "output_type": "stream",
          "name": "stdout",
          "text": [
            "              precision    recall  f1-score   support\n",
            "\n",
            "           0       0.88      0.90      0.89        42\n",
            "           1       0.94      0.93      0.94        72\n",
            "\n",
            "    accuracy                           0.92       114\n",
            "   macro avg       0.91      0.92      0.92       114\n",
            "weighted avg       0.92      0.92      0.92       114\n",
            "\n"
          ]
        }
      ]
    },
    {
      "cell_type": "code",
      "source": [
        "f1_score(y_teste, y_pred, average='weighted')"
      ],
      "metadata": {
        "colab": {
          "base_uri": "https://localhost:8080/"
        },
        "id": "j-uUQ5CeDpTR",
        "outputId": "b516fc61-e4b1-49a2-cd53-409de60435a7"
      },
      "execution_count": null,
      "outputs": [
        {
          "output_type": "execute_result",
          "data": {
            "text/plain": [
              "0.9212409881140532"
            ]
          },
          "metadata": {},
          "execution_count": 173
        }
      ]
    },
    {
      "cell_type": "markdown",
      "source": [
        "# MLPClassifier"
      ],
      "metadata": {
        "id": "whDQchWhEGbm"
      }
    },
    {
      "cell_type": "code",
      "source": [
        "from sklearn.neural_network import MLPClassifier\n",
        "\n",
        "clf_MLP = MLPClassifier(random_state=0, max_iter=5000)"
      ],
      "metadata": {
        "id": "u50zNP0cEI_q"
      },
      "execution_count": null,
      "outputs": []
    },
    {
      "cell_type": "code",
      "source": [
        "param_grid = {'hidden_layer_sizes':[50, 30, 10]}\n",
        "best_MLP = GridSearchCV(clf_MLP, param_grid, scoring=('f1_weighted'), cv=3)"
      ],
      "metadata": {
        "id": "8COnZwECEXlA"
      },
      "execution_count": null,
      "outputs": []
    },
    {
      "cell_type": "code",
      "source": [
        "model_MLP = best_MLP.fit(x_treino,y_treino)"
      ],
      "metadata": {
        "id": "lkeb5kytEdLa"
      },
      "execution_count": null,
      "outputs": []
    },
    {
      "cell_type": "code",
      "source": [
        "print(best_MLP.best_params_)"
      ],
      "metadata": {
        "colab": {
          "base_uri": "https://localhost:8080/"
        },
        "id": "SPI1IWHsElNH",
        "outputId": "844e8419-7110-444c-be07-0e3a32a85030"
      },
      "execution_count": null,
      "outputs": [
        {
          "output_type": "stream",
          "name": "stdout",
          "text": [
            "{'hidden_layer_sizes': 10}\n"
          ]
        }
      ]
    },
    {
      "cell_type": "code",
      "source": [
        "y_pred = model_MLP.predict(x_teste)\n",
        "\n",
        "print(classification_report(y_teste, y_pred))"
      ],
      "metadata": {
        "colab": {
          "base_uri": "https://localhost:8080/"
        },
        "id": "EX7YE99BEpWX",
        "outputId": "31d4d68f-c2a6-4d0f-b6c3-69d1d7aa231b"
      },
      "execution_count": null,
      "outputs": [
        {
          "output_type": "stream",
          "name": "stdout",
          "text": [
            "              precision    recall  f1-score   support\n",
            "\n",
            "           0       0.92      0.86      0.89        42\n",
            "           1       0.92      0.96      0.94        72\n",
            "\n",
            "    accuracy                           0.92       114\n",
            "   macro avg       0.92      0.91      0.91       114\n",
            "weighted avg       0.92      0.92      0.92       114\n",
            "\n"
          ]
        }
      ]
    },
    {
      "cell_type": "code",
      "source": [
        "f1_score(y_teste, y_pred, average='weighted')"
      ],
      "metadata": {
        "colab": {
          "base_uri": "https://localhost:8080/"
        },
        "id": "hJm0GkgcEsCE",
        "outputId": "1b08780c-ae44-4bf3-a3a9-d206cb688708"
      },
      "execution_count": null,
      "outputs": [
        {
          "output_type": "execute_result",
          "data": {
            "text/plain": [
              "0.9203962286669055"
            ]
          },
          "metadata": {},
          "execution_count": 179
        }
      ]
    },
    {
      "cell_type": "markdown",
      "source": [
        "# Carregando o data set digits"
      ],
      "metadata": {
        "id": "4-wbjaXHFyqR"
      }
    },
    {
      "cell_type": "code",
      "source": [
        "from sklearn.datasets import load_digits\n",
        "\n",
        "digits = load_digits()\n",
        "\n",
        "X,y = digits.data,digits.target\n",
        "\n",
        "dataDigits = pd.DataFrame(digits.data, columns=digits.feature_names)\n",
        "dataDigits['target'] = digits.target\n",
        "\n",
        "dataDigits.shape"
      ],
      "metadata": {
        "id": "6VV5_6eLF2tp",
        "colab": {
          "base_uri": "https://localhost:8080/"
        },
        "outputId": "c891ff91-52a1-491d-b0c2-21710d5826ab"
      },
      "execution_count": null,
      "outputs": [
        {
          "output_type": "execute_result",
          "data": {
            "text/plain": [
              "(1797, 65)"
            ]
          },
          "metadata": {},
          "execution_count": 180
        }
      ]
    },
    {
      "cell_type": "code",
      "source": [
        "#dataDigits.info()"
      ],
      "metadata": {
        "id": "rhMnenTzGTKQ"
      },
      "execution_count": null,
      "outputs": []
    },
    {
      "cell_type": "code",
      "source": [
        "#dataDigits.isna().sum()"
      ],
      "metadata": {
        "id": "W1Rw_kzkGYlP"
      },
      "execution_count": null,
      "outputs": []
    },
    {
      "cell_type": "code",
      "source": [
        "#dataDigits[\"target\"].value_counts()"
      ],
      "metadata": {
        "id": "AIr6_N4VGfO9"
      },
      "execution_count": null,
      "outputs": []
    },
    {
      "cell_type": "code",
      "source": [
        "from sklearn.model_selection import train_test_split\n",
        "\n",
        "x_treino, x_teste, y_treino, y_teste = train_test_split(X, y,random_state=0,test_size=0.2,stratify=y)"
      ],
      "metadata": {
        "id": "vkKPF9lZGnbD"
      },
      "execution_count": null,
      "outputs": []
    },
    {
      "cell_type": "markdown",
      "source": [
        "# DecisionTreeClassifier"
      ],
      "metadata": {
        "id": "7XBGNE9NGzHu"
      }
    },
    {
      "cell_type": "code",
      "source": [
        "from sklearn.tree import DecisionTreeClassifier\n",
        "clf_dtc = DecisionTreeClassifier(random_state=0)"
      ],
      "metadata": {
        "id": "O9Qe0irIG0GE"
      },
      "execution_count": null,
      "outputs": []
    },
    {
      "cell_type": "code",
      "source": [
        "param_grid = {'criterion':['gini', 'entropy'], 'max_depth':[3, 7, 9]}\n",
        "best_dtc = GridSearchCV(clf_dtc, param_grid, scoring=('f1_weighted'), cv=3,refit=True)"
      ],
      "metadata": {
        "id": "dlrOs4rYG_PX"
      },
      "execution_count": null,
      "outputs": []
    },
    {
      "cell_type": "code",
      "source": [
        "model_dtc = best_dtc.fit(x_treino,y_treino)"
      ],
      "metadata": {
        "id": "ALD4V96GHMPH"
      },
      "execution_count": null,
      "outputs": []
    },
    {
      "cell_type": "code",
      "source": [
        "print(best_dtc.best_params_)"
      ],
      "metadata": {
        "colab": {
          "base_uri": "https://localhost:8080/"
        },
        "id": "oc8ApFhoHO9a",
        "outputId": "135d90d9-7597-4be7-ace9-673734abaccd"
      },
      "execution_count": null,
      "outputs": [
        {
          "output_type": "stream",
          "name": "stdout",
          "text": [
            "{'criterion': 'entropy', 'max_depth': 9}\n"
          ]
        }
      ]
    },
    {
      "cell_type": "code",
      "source": [
        "y_true, y_pred = y_teste,model_dtc.predict(x_teste)\n",
        "\n",
        "print(classification_report(y_true, y_pred))"
      ],
      "metadata": {
        "colab": {
          "base_uri": "https://localhost:8080/"
        },
        "id": "isPDUaz0HRy-",
        "outputId": "8f65b255-a60d-494e-b3cd-2564b813d64c"
      },
      "execution_count": null,
      "outputs": [
        {
          "output_type": "stream",
          "name": "stdout",
          "text": [
            "              precision    recall  f1-score   support\n",
            "\n",
            "           0       1.00      0.94      0.97        36\n",
            "           1       0.89      0.89      0.89        36\n",
            "           2       0.79      0.89      0.84        35\n",
            "           3       0.74      0.78      0.76        37\n",
            "           4       0.84      0.86      0.85        36\n",
            "           5       0.81      0.81      0.81        37\n",
            "           6       0.86      0.89      0.88        36\n",
            "           7       0.84      0.89      0.86        36\n",
            "           8       0.82      0.66      0.73        35\n",
            "           9       0.94      0.92      0.93        36\n",
            "\n",
            "    accuracy                           0.85       360\n",
            "   macro avg       0.85      0.85      0.85       360\n",
            "weighted avg       0.85      0.85      0.85       360\n",
            "\n"
          ]
        }
      ]
    },
    {
      "cell_type": "code",
      "source": [
        "f1_score(y_true, y_pred, average='weighted')"
      ],
      "metadata": {
        "colab": {
          "base_uri": "https://localhost:8080/"
        },
        "id": "pcJvUp3RHVbU",
        "outputId": "0c1c6eba-fcb5-46f8-d28b-e7bba664a950"
      },
      "execution_count": null,
      "outputs": [
        {
          "output_type": "execute_result",
          "data": {
            "text/plain": [
              "0.8522918353485305"
            ]
          },
          "metadata": {},
          "execution_count": 190
        }
      ]
    },
    {
      "cell_type": "markdown",
      "source": [
        "# KNeighborsClassifier"
      ],
      "metadata": {
        "id": "P6D7yo3QHkWj"
      }
    },
    {
      "cell_type": "code",
      "source": [
        "from sklearn.model_selection import GridSearchCV\n",
        "from sklearn.neighbors import KNeighborsClassifier\n",
        "\n",
        "KNN = KNeighborsClassifier()\n",
        "param_grid = {'n_neighbors':[1, 3, 5, 7], 'p':[1, 2]}\n",
        "\n",
        "best_knn = GridSearchCV(KNN, param_grid, scoring=('f1_weighted'), cv=3,refit=True)\n",
        "\n"
      ],
      "metadata": {
        "id": "5Tc_sxlUHqA9"
      },
      "execution_count": null,
      "outputs": []
    },
    {
      "cell_type": "code",
      "source": [
        "model_knn = best_knn.fit(x_treino,y_treino)"
      ],
      "metadata": {
        "id": "MJJiSz-NHqA-"
      },
      "execution_count": null,
      "outputs": []
    },
    {
      "cell_type": "code",
      "source": [
        "print(best_knn.best_params_)"
      ],
      "metadata": {
        "colab": {
          "base_uri": "https://localhost:8080/"
        },
        "outputId": "0c30f19b-499c-4996-f8c7-881f05b05694",
        "id": "MaZcWx1IHqA_"
      },
      "execution_count": null,
      "outputs": [
        {
          "output_type": "stream",
          "name": "stdout",
          "text": [
            "{'n_neighbors': 1, 'p': 2}\n"
          ]
        }
      ]
    },
    {
      "cell_type": "code",
      "source": [
        "y_true, y_pred = y_teste, model_knn.predict(x_teste)\n",
        "\n",
        "print(classification_report(y_true, y_pred))"
      ],
      "metadata": {
        "colab": {
          "base_uri": "https://localhost:8080/"
        },
        "outputId": "7a4aa1d3-acc5-4156-af75-58e3d58c2030",
        "id": "6V2eAKIlHqBA"
      },
      "execution_count": null,
      "outputs": [
        {
          "output_type": "stream",
          "name": "stdout",
          "text": [
            "              precision    recall  f1-score   support\n",
            "\n",
            "           0       1.00      1.00      1.00        36\n",
            "           1       0.97      1.00      0.99        36\n",
            "           2       1.00      1.00      1.00        35\n",
            "           3       0.93      1.00      0.96        37\n",
            "           4       1.00      1.00      1.00        36\n",
            "           5       0.97      1.00      0.99        37\n",
            "           6       1.00      1.00      1.00        36\n",
            "           7       1.00      1.00      1.00        36\n",
            "           8       1.00      0.91      0.96        35\n",
            "           9       0.97      0.92      0.94        36\n",
            "\n",
            "    accuracy                           0.98       360\n",
            "   macro avg       0.98      0.98      0.98       360\n",
            "weighted avg       0.98      0.98      0.98       360\n",
            "\n"
          ]
        }
      ]
    },
    {
      "cell_type": "code",
      "source": [
        "f1_score(y_true, y_pred, average='weighted')"
      ],
      "metadata": {
        "colab": {
          "base_uri": "https://localhost:8080/"
        },
        "outputId": "cd704166-6398-4c03-f72d-15b14e1c3dc7",
        "id": "EDqnwNAbHqBA"
      },
      "execution_count": null,
      "outputs": [
        {
          "output_type": "execute_result",
          "data": {
            "text/plain": [
              "0.9831879180664704"
            ]
          },
          "metadata": {},
          "execution_count": 195
        }
      ]
    },
    {
      "cell_type": "markdown",
      "source": [
        "# GaussianNB"
      ],
      "metadata": {
        "id": "-VR-QGrAGLNc"
      }
    },
    {
      "cell_type": "code",
      "source": [
        "from sklearn.naive_bayes import GaussianNB\n",
        "\n",
        "naive = GaussianNB()\n",
        "model_nb = naive.fit(x_treino,y_treino)"
      ],
      "metadata": {
        "id": "Pwpmz-FRGM4b"
      },
      "execution_count": null,
      "outputs": []
    },
    {
      "cell_type": "code",
      "source": [
        "y_true, y_pred = y_teste,model_nb.predict(x_teste)\n",
        "\n",
        "print(classification_report(y_true, y_pred))"
      ],
      "metadata": {
        "colab": {
          "base_uri": "https://localhost:8080/"
        },
        "id": "cJKIfjlfGUaT",
        "outputId": "4db23aad-274d-4edb-de4d-2588ee286daa"
      },
      "execution_count": null,
      "outputs": [
        {
          "output_type": "stream",
          "name": "stdout",
          "text": [
            "              precision    recall  f1-score   support\n",
            "\n",
            "           0       0.97      0.97      0.97        36\n",
            "           1       0.72      0.92      0.80        36\n",
            "           2       1.00      0.51      0.68        35\n",
            "           3       0.84      0.73      0.78        37\n",
            "           4       0.97      0.83      0.90        36\n",
            "           5       0.89      0.86      0.88        37\n",
            "           6       1.00      0.97      0.99        36\n",
            "           7       0.80      1.00      0.89        36\n",
            "           8       0.48      0.83      0.61        35\n",
            "           9       1.00      0.58      0.74        36\n",
            "\n",
            "    accuracy                           0.82       360\n",
            "   macro avg       0.87      0.82      0.82       360\n",
            "weighted avg       0.87      0.82      0.82       360\n",
            "\n"
          ]
        }
      ]
    },
    {
      "cell_type": "code",
      "source": [
        "f1_score(y_true, y_pred, average='weighted')"
      ],
      "metadata": {
        "colab": {
          "base_uri": "https://localhost:8080/"
        },
        "id": "eK-wCsUZGcFy",
        "outputId": "ea504e91-3142-4112-878c-d4082abd8088"
      },
      "execution_count": null,
      "outputs": [
        {
          "output_type": "execute_result",
          "data": {
            "text/plain": [
              "0.8243627031222371"
            ]
          },
          "metadata": {},
          "execution_count": 198
        }
      ]
    },
    {
      "cell_type": "markdown",
      "source": [
        "# SVC"
      ],
      "metadata": {
        "id": "UfYhcdJEGk1L"
      }
    },
    {
      "cell_type": "code",
      "source": [
        "from sklearn.svm import SVC\n",
        "\n",
        "clf_svc = SVC()\n",
        "param_grid = {'kernel':['linear', 'poly', 'rbf', 'sigmoid'], 'C':[1, 3, 7]}\n",
        "\n",
        "best_svc = GridSearchCV(clf_svc, param_grid, scoring=('f1_weighted'), cv=3)\n"
      ],
      "metadata": {
        "id": "FfrPRwF5Gmmz"
      },
      "execution_count": null,
      "outputs": []
    },
    {
      "cell_type": "code",
      "source": [
        "model_svc = best_svc.fit(x_treino,y_treino)"
      ],
      "metadata": {
        "id": "u2Zc8gtuGuhb"
      },
      "execution_count": null,
      "outputs": []
    },
    {
      "cell_type": "code",
      "source": [
        "print(best_svc.best_params_)"
      ],
      "metadata": {
        "colab": {
          "base_uri": "https://localhost:8080/"
        },
        "id": "J4aCR36LGxAz",
        "outputId": "893863e9-7140-430b-edfb-caa1e4480f7a"
      },
      "execution_count": null,
      "outputs": [
        {
          "output_type": "stream",
          "name": "stdout",
          "text": [
            "{'C': 3, 'kernel': 'rbf'}\n"
          ]
        }
      ]
    },
    {
      "cell_type": "code",
      "source": [
        "y_true, y_pred = y_teste,model_svc.predict(x_teste)\n",
        "\n",
        "print(classification_report(y_true, y_pred))"
      ],
      "metadata": {
        "colab": {
          "base_uri": "https://localhost:8080/"
        },
        "id": "Y0pXSlhwGzmD",
        "outputId": "e00d9346-4bd3-4c0b-c17d-bb3f3acc6cc6"
      },
      "execution_count": null,
      "outputs": [
        {
          "output_type": "stream",
          "name": "stdout",
          "text": [
            "              precision    recall  f1-score   support\n",
            "\n",
            "           0       1.00      1.00      1.00        36\n",
            "           1       0.95      1.00      0.97        36\n",
            "           2       1.00      1.00      1.00        35\n",
            "           3       1.00      1.00      1.00        37\n",
            "           4       1.00      1.00      1.00        36\n",
            "           5       0.97      1.00      0.99        37\n",
            "           6       1.00      1.00      1.00        36\n",
            "           7       1.00      1.00      1.00        36\n",
            "           8       1.00      0.94      0.97        35\n",
            "           9       1.00      0.97      0.99        36\n",
            "\n",
            "    accuracy                           0.99       360\n",
            "   macro avg       0.99      0.99      0.99       360\n",
            "weighted avg       0.99      0.99      0.99       360\n",
            "\n"
          ]
        }
      ]
    },
    {
      "cell_type": "code",
      "source": [
        "f1_score(y_true, y_pred, average='weighted')"
      ],
      "metadata": {
        "colab": {
          "base_uri": "https://localhost:8080/"
        },
        "id": "fiZc3kN-G1f7",
        "outputId": "6f282d50-efe7-4c09-9571-58eafb7b641a"
      },
      "execution_count": null,
      "outputs": [
        {
          "output_type": "execute_result",
          "data": {
            "text/plain": [
              "0.9916589990985184"
            ]
          },
          "metadata": {},
          "execution_count": 203
        }
      ]
    },
    {
      "cell_type": "markdown",
      "source": [
        "# MLPClassifier"
      ],
      "metadata": {
        "id": "6XWm8EuvHBkD"
      }
    },
    {
      "cell_type": "code",
      "source": [
        "from sklearn.neural_network import MLPClassifier\n",
        "\n",
        "clf_MLP = MLPClassifier(random_state=0, max_iter=5000)"
      ],
      "metadata": {
        "id": "X72YhEQXHEDT"
      },
      "execution_count": null,
      "outputs": []
    },
    {
      "cell_type": "code",
      "source": [
        "param_grid = {'hidden_layer_sizes':[50, 30, 10]}\n",
        "best_MLP = GridSearchCV(clf_MLP, param_grid, scoring=('f1_weighted'), cv=3)"
      ],
      "metadata": {
        "id": "Lssa-bexHPBS"
      },
      "execution_count": null,
      "outputs": []
    },
    {
      "cell_type": "code",
      "source": [
        "model_MLP = best_MLP.fit(x_treino,y_treino)"
      ],
      "metadata": {
        "id": "ZHBwZEMrHPBT"
      },
      "execution_count": null,
      "outputs": []
    },
    {
      "cell_type": "code",
      "source": [
        "print(best_MLP.best_params_)"
      ],
      "metadata": {
        "colab": {
          "base_uri": "https://localhost:8080/"
        },
        "outputId": "26b3081e-359d-47ad-c596-e7474580e154",
        "id": "3mJdsVoYHPBT"
      },
      "execution_count": null,
      "outputs": [
        {
          "output_type": "stream",
          "name": "stdout",
          "text": [
            "{'hidden_layer_sizes': 50}\n"
          ]
        }
      ]
    },
    {
      "cell_type": "code",
      "source": [
        "y_true,y_pred = y_teste,model_MLP.predict(x_teste)\n",
        "\n",
        "print(classification_report(y_true, y_pred))"
      ],
      "metadata": {
        "colab": {
          "base_uri": "https://localhost:8080/"
        },
        "outputId": "78e2f08c-efaa-49ec-c6a7-37261f3bef50",
        "id": "FUjSE8E-HPBT"
      },
      "execution_count": null,
      "outputs": [
        {
          "output_type": "stream",
          "name": "stdout",
          "text": [
            "              precision    recall  f1-score   support\n",
            "\n",
            "           0       1.00      1.00      1.00        36\n",
            "           1       0.94      0.94      0.94        36\n",
            "           2       0.97      1.00      0.99        35\n",
            "           3       0.97      0.97      0.97        37\n",
            "           4       1.00      0.92      0.96        36\n",
            "           5       0.92      0.97      0.95        37\n",
            "           6       1.00      0.97      0.99        36\n",
            "           7       0.97      1.00      0.99        36\n",
            "           8       0.92      0.97      0.94        35\n",
            "           9       1.00      0.94      0.97        36\n",
            "\n",
            "    accuracy                           0.97       360\n",
            "   macro avg       0.97      0.97      0.97       360\n",
            "weighted avg       0.97      0.97      0.97       360\n",
            "\n"
          ]
        }
      ]
    },
    {
      "cell_type": "code",
      "source": [
        "f1_score(y_teste, y_pred, average='weighted')"
      ],
      "metadata": {
        "colab": {
          "base_uri": "https://localhost:8080/"
        },
        "outputId": "bb754b60-b866-475c-eeee-9277b00a3062",
        "id": "D6JKnc1XHPBT"
      },
      "execution_count": null,
      "outputs": [
        {
          "output_type": "execute_result",
          "data": {
            "text/plain": [
              "0.9695034656380435"
            ]
          },
          "metadata": {},
          "execution_count": 209
        }
      ]
    },
    {
      "cell_type": "markdown",
      "source": [
        "# Carregando dataset wine\n"
      ],
      "metadata": {
        "id": "ZXmapSpyn2rW"
      }
    },
    {
      "cell_type": "code",
      "source": [
        "from sklearn.datasets import load_wine\n",
        "\n",
        "wine = load_wine()\n",
        "\n",
        "X,y = wine.data,wine.target\n",
        "\n",
        "dataWine = pd.DataFrame(wine.data, columns=wine.feature_names)\n",
        "dataWine['target'] = wine.target\n",
        "\n",
        "dataWine.shape"
      ],
      "metadata": {
        "id": "HuPU4Fy2n-nj",
        "colab": {
          "base_uri": "https://localhost:8080/"
        },
        "outputId": "bb91732a-d755-46d5-f4d2-d057354105de"
      },
      "execution_count": null,
      "outputs": [
        {
          "output_type": "execute_result",
          "data": {
            "text/plain": [
              "(178, 14)"
            ]
          },
          "metadata": {},
          "execution_count": 210
        }
      ]
    },
    {
      "cell_type": "code",
      "source": [
        "#dataWine.info()"
      ],
      "metadata": {
        "id": "OUPSoQLKn-nk"
      },
      "execution_count": null,
      "outputs": []
    },
    {
      "cell_type": "code",
      "source": [
        "#dataWine.isna().sum()"
      ],
      "metadata": {
        "id": "Uevp0gl6n-nk"
      },
      "execution_count": null,
      "outputs": []
    },
    {
      "cell_type": "code",
      "source": [
        "#dataWine[\"target\"].value_counts()"
      ],
      "metadata": {
        "id": "JK1qylcsn-nk"
      },
      "execution_count": null,
      "outputs": []
    },
    {
      "cell_type": "code",
      "source": [
        "from sklearn.model_selection import train_test_split\n",
        "\n",
        "x_treino, x_teste, y_treino, y_teste = train_test_split(X, y,random_state=0,test_size=0.2,stratify=y)"
      ],
      "metadata": {
        "id": "4vEuCHhnomDV"
      },
      "execution_count": null,
      "outputs": []
    },
    {
      "cell_type": "markdown",
      "source": [
        "# DecisionTreeClassifier"
      ],
      "metadata": {
        "id": "RvoNoWT0omDX"
      }
    },
    {
      "cell_type": "code",
      "source": [
        "from sklearn.tree import DecisionTreeClassifier\n",
        "clf_dtc = DecisionTreeClassifier(random_state=0)"
      ],
      "metadata": {
        "id": "YSmuoglRomDY"
      },
      "execution_count": null,
      "outputs": []
    },
    {
      "cell_type": "code",
      "source": [
        "param_grid = {'criterion':['gini', 'entropy'], 'max_depth':[3, 7, 9]}\n",
        "best_dtc = GridSearchCV(clf_dtc, param_grid, scoring=('f1_weighted'), cv=3,refit=True)"
      ],
      "metadata": {
        "id": "hZDnA09eomDY"
      },
      "execution_count": null,
      "outputs": []
    },
    {
      "cell_type": "code",
      "source": [
        "model_dtc = best_dtc.fit(x_treino,y_treino)"
      ],
      "metadata": {
        "id": "8JhR_77GomDZ"
      },
      "execution_count": null,
      "outputs": []
    },
    {
      "cell_type": "code",
      "source": [
        "print(best_dtc.best_params_)"
      ],
      "metadata": {
        "colab": {
          "base_uri": "https://localhost:8080/"
        },
        "outputId": "16f15d4b-1136-47be-ab85-f12b4c74c603",
        "id": "qYQjbhmEomDa"
      },
      "execution_count": null,
      "outputs": [
        {
          "output_type": "stream",
          "name": "stdout",
          "text": [
            "{'criterion': 'entropy', 'max_depth': 7}\n"
          ]
        }
      ]
    },
    {
      "cell_type": "code",
      "source": [
        "y_true, y_pred = y_teste,model_dtc.predict(x_teste)\n",
        "\n",
        "print(classification_report(y_true, y_pred))"
      ],
      "metadata": {
        "colab": {
          "base_uri": "https://localhost:8080/"
        },
        "outputId": "1e4a3a90-d826-40b2-ee1a-bda0d8332061",
        "id": "jBmZ8XgTomDb"
      },
      "execution_count": null,
      "outputs": [
        {
          "output_type": "stream",
          "name": "stdout",
          "text": [
            "              precision    recall  f1-score   support\n",
            "\n",
            "           0       1.00      0.83      0.91        12\n",
            "           1       0.82      1.00      0.90        14\n",
            "           2       1.00      0.90      0.95        10\n",
            "\n",
            "    accuracy                           0.92        36\n",
            "   macro avg       0.94      0.91      0.92        36\n",
            "weighted avg       0.93      0.92      0.92        36\n",
            "\n"
          ]
        }
      ]
    },
    {
      "cell_type": "code",
      "source": [
        "f1_score(y_true, y_pred, average='weighted')"
      ],
      "metadata": {
        "colab": {
          "base_uri": "https://localhost:8080/"
        },
        "outputId": "07df063b-af9b-4695-e478-168e4c79a0e0",
        "id": "qOjuBXLgomDb"
      },
      "execution_count": null,
      "outputs": [
        {
          "output_type": "execute_result",
          "data": {
            "text/plain": [
              "0.9174426780538835"
            ]
          },
          "metadata": {},
          "execution_count": 220
        }
      ]
    },
    {
      "cell_type": "markdown",
      "source": [
        "# KNeighborsClassifier"
      ],
      "metadata": {
        "id": "xbliDXxDo4-y"
      }
    },
    {
      "cell_type": "code",
      "source": [
        "from sklearn.model_selection import GridSearchCV\n",
        "from sklearn.neighbors import KNeighborsClassifier\n",
        "\n",
        "KNN = KNeighborsClassifier()\n",
        "param_grid = {'n_neighbors':[1, 3, 5, 7], 'p':[1, 2]}\n",
        "\n",
        "best_knn = GridSearchCV(KNN, param_grid, scoring=('f1_weighted'), cv=3,refit=True)\n",
        "\n"
      ],
      "metadata": {
        "id": "sg4WVJE1o4_O"
      },
      "execution_count": null,
      "outputs": []
    },
    {
      "cell_type": "code",
      "source": [
        "model_knn = best_knn.fit(x_treino,y_treino)"
      ],
      "metadata": {
        "id": "EyIeVgQuo4_P"
      },
      "execution_count": null,
      "outputs": []
    },
    {
      "cell_type": "code",
      "source": [
        "print(best_knn.best_params_)"
      ],
      "metadata": {
        "colab": {
          "base_uri": "https://localhost:8080/"
        },
        "outputId": "576507ea-119d-4a5b-d6ab-65ea1fcef59a",
        "id": "sC14wqyao4_Q"
      },
      "execution_count": null,
      "outputs": [
        {
          "output_type": "stream",
          "name": "stdout",
          "text": [
            "{'n_neighbors': 1, 'p': 1}\n"
          ]
        }
      ]
    },
    {
      "cell_type": "code",
      "source": [
        "y_true, y_pred = y_teste, model_knn.predict(x_teste)\n",
        "\n",
        "print(classification_report(y_true, y_pred))"
      ],
      "metadata": {
        "colab": {
          "base_uri": "https://localhost:8080/"
        },
        "outputId": "9c39c4a6-d915-40d7-b3a9-cca69e2aa5e7",
        "id": "cnzYkJq6o4_Q"
      },
      "execution_count": null,
      "outputs": [
        {
          "output_type": "stream",
          "name": "stdout",
          "text": [
            "              precision    recall  f1-score   support\n",
            "\n",
            "           0       0.90      0.75      0.82        12\n",
            "           1       0.65      0.79      0.71        14\n",
            "           2       0.67      0.60      0.63        10\n",
            "\n",
            "    accuracy                           0.72        36\n",
            "   macro avg       0.74      0.71      0.72        36\n",
            "weighted avg       0.74      0.72      0.72        36\n",
            "\n"
          ]
        }
      ]
    },
    {
      "cell_type": "code",
      "source": [
        "f1_score(y_true, y_pred, average='weighted')"
      ],
      "metadata": {
        "colab": {
          "base_uri": "https://localhost:8080/"
        },
        "outputId": "96cb4762-70e1-4898-c6b7-0ffadf03ee51",
        "id": "4y3DU4DWo4_R"
      },
      "execution_count": null,
      "outputs": [
        {
          "output_type": "execute_result",
          "data": {
            "text/plain": [
              "0.724151532300938"
            ]
          },
          "metadata": {},
          "execution_count": 225
        }
      ]
    },
    {
      "cell_type": "markdown",
      "source": [
        "# GaussianNB"
      ],
      "metadata": {
        "id": "3JegTW5ao4_S"
      }
    },
    {
      "cell_type": "code",
      "source": [
        "from sklearn.naive_bayes import GaussianNB\n",
        "\n",
        "naive = GaussianNB()\n",
        "model_nb = naive.fit(x_treino,y_treino)"
      ],
      "metadata": {
        "id": "1lNgDHS1o4_T"
      },
      "execution_count": null,
      "outputs": []
    },
    {
      "cell_type": "code",
      "source": [
        "y_true, y_pred = y_teste,model_nb.predict(x_teste)\n",
        "\n",
        "print(classification_report(y_true, y_pred))"
      ],
      "metadata": {
        "colab": {
          "base_uri": "https://localhost:8080/"
        },
        "outputId": "2e3f0ad5-f66a-4e22-89cf-c3450f701969",
        "id": "FUur6cR0o4_T"
      },
      "execution_count": null,
      "outputs": [
        {
          "output_type": "stream",
          "name": "stdout",
          "text": [
            "              precision    recall  f1-score   support\n",
            "\n",
            "           0       1.00      0.92      0.96        12\n",
            "           1       0.93      1.00      0.97        14\n",
            "           2       1.00      1.00      1.00        10\n",
            "\n",
            "    accuracy                           0.97        36\n",
            "   macro avg       0.98      0.97      0.97        36\n",
            "weighted avg       0.97      0.97      0.97        36\n",
            "\n"
          ]
        }
      ]
    },
    {
      "cell_type": "code",
      "source": [
        "f1_score(y_true, y_pred, average='weighted')"
      ],
      "metadata": {
        "colab": {
          "base_uri": "https://localhost:8080/"
        },
        "outputId": "b37a9fc7-915e-47b5-94cb-08094666569e",
        "id": "NAp4CQ-Uo4_U"
      },
      "execution_count": null,
      "outputs": [
        {
          "output_type": "execute_result",
          "data": {
            "text/plain": [
              "0.972097284690988"
            ]
          },
          "metadata": {},
          "execution_count": 228
        }
      ]
    },
    {
      "cell_type": "markdown",
      "source": [
        "# SVC"
      ],
      "metadata": {
        "id": "BA6RlDljo4_V"
      }
    },
    {
      "cell_type": "code",
      "source": [
        "from sklearn.svm import SVC\n",
        "\n",
        "clf_svc = SVC()\n",
        "param_grid = {'kernel':['linear', 'poly', 'rbf', 'sigmoid'], 'C':[1, 3, 7]}\n",
        "\n",
        "best_svc = GridSearchCV(clf_svc, param_grid, scoring=('f1_weighted'), cv=3)\n"
      ],
      "metadata": {
        "id": "bvoMCTXao4_V"
      },
      "execution_count": null,
      "outputs": []
    },
    {
      "cell_type": "code",
      "source": [
        "model_svc = best_svc.fit(x_treino,y_treino)"
      ],
      "metadata": {
        "id": "SFXfqGpHo4_V"
      },
      "execution_count": null,
      "outputs": []
    },
    {
      "cell_type": "code",
      "source": [
        "print(best_svc.best_params_)"
      ],
      "metadata": {
        "colab": {
          "base_uri": "https://localhost:8080/"
        },
        "outputId": "1d9a01a7-69f5-4e04-e2a4-1112f1b68c97",
        "id": "unbFlcqqo4_W"
      },
      "execution_count": null,
      "outputs": [
        {
          "output_type": "stream",
          "name": "stdout",
          "text": [
            "{'C': 3, 'kernel': 'linear'}\n"
          ]
        }
      ]
    },
    {
      "cell_type": "code",
      "source": [
        "y_true, y_pred = y_teste,model_svc.predict(x_teste)\n",
        "\n",
        "print(classification_report(y_true, y_pred))"
      ],
      "metadata": {
        "colab": {
          "base_uri": "https://localhost:8080/"
        },
        "outputId": "11436acf-c929-4535-cfb9-ddd4235f08f1",
        "id": "o2sWyk3Uo4_W"
      },
      "execution_count": null,
      "outputs": [
        {
          "output_type": "stream",
          "name": "stdout",
          "text": [
            "              precision    recall  f1-score   support\n",
            "\n",
            "           0       0.92      1.00      0.96        12\n",
            "           1       1.00      0.93      0.96        14\n",
            "           2       1.00      1.00      1.00        10\n",
            "\n",
            "    accuracy                           0.97        36\n",
            "   macro avg       0.97      0.98      0.97        36\n",
            "weighted avg       0.97      0.97      0.97        36\n",
            "\n"
          ]
        }
      ]
    },
    {
      "cell_type": "code",
      "source": [
        "f1_score(y_true, y_pred, average='weighted')"
      ],
      "metadata": {
        "colab": {
          "base_uri": "https://localhost:8080/"
        },
        "outputId": "a5342bea-7a81-458b-b4a8-d1b3c27c2934",
        "id": "WJFYJAe5o4_X"
      },
      "execution_count": null,
      "outputs": [
        {
          "output_type": "execute_result",
          "data": {
            "text/plain": [
              "0.9722633744855967"
            ]
          },
          "metadata": {},
          "execution_count": 233
        }
      ]
    },
    {
      "cell_type": "markdown",
      "source": [
        "# MLPClassifier"
      ],
      "metadata": {
        "id": "CdftqR_Go4_X"
      }
    },
    {
      "cell_type": "code",
      "source": [
        "from sklearn.neural_network import MLPClassifier\n",
        "\n",
        "clf_MLP = MLPClassifier(random_state=0, max_iter=5000)"
      ],
      "metadata": {
        "id": "aWGuF8jio4_X"
      },
      "execution_count": null,
      "outputs": []
    },
    {
      "cell_type": "code",
      "source": [
        "param_grid = {'hidden_layer_sizes':[50, 30, 10]}\n",
        "best_MLP = GridSearchCV(clf_MLP, param_grid, scoring=('f1_weighted'), cv=3)"
      ],
      "metadata": {
        "id": "a-HqsCFRo4_Y"
      },
      "execution_count": null,
      "outputs": []
    },
    {
      "cell_type": "code",
      "source": [
        "model_MLP = best_MLP.fit(x_treino,y_treino)"
      ],
      "metadata": {
        "id": "3RKv0EjAo4_Y"
      },
      "execution_count": null,
      "outputs": []
    },
    {
      "cell_type": "code",
      "source": [
        "print(best_MLP.best_params_)"
      ],
      "metadata": {
        "colab": {
          "base_uri": "https://localhost:8080/"
        },
        "outputId": "38168d67-0b49-44a4-8c7e-fd38553e9290",
        "id": "88b3JZ8Jo4_Z"
      },
      "execution_count": null,
      "outputs": [
        {
          "output_type": "stream",
          "name": "stdout",
          "text": [
            "{'hidden_layer_sizes': 10}\n"
          ]
        }
      ]
    },
    {
      "cell_type": "code",
      "source": [
        "y_true,y_pred = y_teste,model_MLP.predict(x_teste)\n",
        "\n",
        "print(classification_report(y_true, y_pred))"
      ],
      "metadata": {
        "colab": {
          "base_uri": "https://localhost:8080/"
        },
        "outputId": "fd9da014-cc34-4d16-e413-611301163264",
        "id": "LNUsOcF5o4_Z"
      },
      "execution_count": null,
      "outputs": [
        {
          "output_type": "stream",
          "name": "stdout",
          "text": [
            "              precision    recall  f1-score   support\n",
            "\n",
            "           0       0.00      0.00      0.00        12\n",
            "           1       0.39      1.00      0.56        14\n",
            "           2       0.00      0.00      0.00        10\n",
            "\n",
            "    accuracy                           0.39        36\n",
            "   macro avg       0.13      0.33      0.19        36\n",
            "weighted avg       0.15      0.39      0.22        36\n",
            "\n"
          ]
        },
        {
          "output_type": "stream",
          "name": "stderr",
          "text": [
            "/usr/local/lib/python3.10/dist-packages/sklearn/metrics/_classification.py:1344: UndefinedMetricWarning: Precision and F-score are ill-defined and being set to 0.0 in labels with no predicted samples. Use `zero_division` parameter to control this behavior.\n",
            "  _warn_prf(average, modifier, msg_start, len(result))\n",
            "/usr/local/lib/python3.10/dist-packages/sklearn/metrics/_classification.py:1344: UndefinedMetricWarning: Precision and F-score are ill-defined and being set to 0.0 in labels with no predicted samples. Use `zero_division` parameter to control this behavior.\n",
            "  _warn_prf(average, modifier, msg_start, len(result))\n",
            "/usr/local/lib/python3.10/dist-packages/sklearn/metrics/_classification.py:1344: UndefinedMetricWarning: Precision and F-score are ill-defined and being set to 0.0 in labels with no predicted samples. Use `zero_division` parameter to control this behavior.\n",
            "  _warn_prf(average, modifier, msg_start, len(result))\n"
          ]
        }
      ]
    },
    {
      "cell_type": "code",
      "source": [
        "f1_score(y_teste, y_pred, average='weighted')"
      ],
      "metadata": {
        "colab": {
          "base_uri": "https://localhost:8080/"
        },
        "outputId": "a97ad5a2-9ca8-4855-870f-061622bd37cc",
        "id": "9KZj4ktfo4_a"
      },
      "execution_count": null,
      "outputs": [
        {
          "output_type": "execute_result",
          "data": {
            "text/plain": [
              "0.2177777777777778"
            ]
          },
          "metadata": {},
          "execution_count": 239
        }
      ]
    },
    {
      "cell_type": "markdown",
      "source": [
        "# Carregando dataset diabetes"
      ],
      "metadata": {
        "id": "SafkgfmapnJT"
      }
    },
    {
      "cell_type": "code",
      "source": [
        "from sklearn.datasets import load_diabetes\n",
        "from sklearn import preprocessing\n",
        "\n",
        "diabetes = load_diabetes()\n",
        "X,y = diabetes.data,diabetes.target\n",
        "\n",
        "dataDiabetes = pd.DataFrame(diabetes.data, columns=diabetes.feature_names)\n",
        "dataDiabetes['target'] = diabetes.target\n",
        "\n",
        "dataDiabetes.shape"
      ],
      "metadata": {
        "colab": {
          "base_uri": "https://localhost:8080/"
        },
        "id": "eyzTfVvQpvO6",
        "outputId": "8e4246be-5ead-4d42-9533-054448afdb05"
      },
      "execution_count": null,
      "outputs": [
        {
          "output_type": "execute_result",
          "data": {
            "text/plain": [
              "(442, 11)"
            ]
          },
          "metadata": {},
          "execution_count": 271
        }
      ]
    },
    {
      "cell_type": "code",
      "source": [
        "#dataDiabetes.info()"
      ],
      "metadata": {
        "id": "Y1KLl4pMpvO8"
      },
      "execution_count": null,
      "outputs": []
    },
    {
      "cell_type": "code",
      "source": [
        "#dataDiabetes.isna().sum()"
      ],
      "metadata": {
        "id": "Xc1egP2DpvO8"
      },
      "execution_count": null,
      "outputs": []
    },
    {
      "cell_type": "code",
      "source": [
        "from sklearn.model_selection import train_test_split\n",
        "\n",
        "x_treino, x_teste, y_treino, y_teste = train_test_split(X, y,random_state=0,test_size=0.2)"
      ],
      "metadata": {
        "id": "KT5GrmMTpvO-"
      },
      "execution_count": null,
      "outputs": []
    },
    {
      "cell_type": "markdown",
      "source": [
        "#DecisionTreeRegressor"
      ],
      "metadata": {
        "id": "IioFDrJG23RE"
      }
    },
    {
      "cell_type": "code",
      "source": [
        "from sklearn.tree import DecisionTreeRegressor\n",
        "clf_dtr = DecisionTreeRegressor(random_state=0)"
      ],
      "metadata": {
        "id": "ofFA8H3Q2-0_"
      },
      "execution_count": null,
      "outputs": []
    },
    {
      "cell_type": "code",
      "source": [
        "param_grid = {'criterion':['friedman_mse', 'absolute_error'], 'max_depth':[3, 7, 9]}\n",
        "best_dtr = GridSearchCV(clf_dtr, param_grid, scoring=('neg_mean_squared_error'), cv=3,error_score='raise')"
      ],
      "metadata": {
        "id": "wLFb8Jaj2-1A"
      },
      "execution_count": null,
      "outputs": []
    },
    {
      "cell_type": "code",
      "source": [
        "model_dtr = best_dtr.fit(x_treino,y_treino)"
      ],
      "metadata": {
        "id": "AhdJA1ea2-1A"
      },
      "execution_count": null,
      "outputs": []
    },
    {
      "cell_type": "code",
      "source": [
        "print(best_dtr.best_params_)"
      ],
      "metadata": {
        "colab": {
          "base_uri": "https://localhost:8080/"
        },
        "outputId": "34099f7c-1992-4a96-822f-a9155a3e4610",
        "id": "1JcqCwas2-1B"
      },
      "execution_count": null,
      "outputs": [
        {
          "output_type": "stream",
          "name": "stdout",
          "text": [
            "{'criterion': 'friedman_mse', 'max_depth': 3}\n"
          ]
        }
      ]
    },
    {
      "cell_type": "code",
      "source": [
        "y_true, y_pred = y_teste,model_dtr.predict(x_teste)"
      ],
      "metadata": {
        "id": "hR00r-Cm2-1B"
      },
      "execution_count": null,
      "outputs": []
    },
    {
      "cell_type": "code",
      "source": [
        "from sklearn.metrics import mean_squared_error\n",
        "mean_squared_error(y_true, y_pred)"
      ],
      "metadata": {
        "colab": {
          "base_uri": "https://localhost:8080/"
        },
        "outputId": "b1eaecc1-95ee-44d7-dccf-b985bddddba9",
        "id": "eW4d4hzK2-1C"
      },
      "execution_count": null,
      "outputs": [
        {
          "output_type": "execute_result",
          "data": {
            "text/plain": [
              "4669.900912391118"
            ]
          },
          "metadata": {},
          "execution_count": 249
        }
      ]
    },
    {
      "cell_type": "code",
      "source": [
        "from sklearn.metrics import r2_score\n",
        "r2_score(y_true, y_pred)"
      ],
      "metadata": {
        "id": "nkteBRB63zKT",
        "colab": {
          "base_uri": "https://localhost:8080/"
        },
        "outputId": "cedaa5b7-2a18-4f98-958a-f31ce66f3fe7"
      },
      "execution_count": null,
      "outputs": [
        {
          "output_type": "execute_result",
          "data": {
            "text/plain": [
              "0.08931993657416948"
            ]
          },
          "metadata": {},
          "execution_count": 250
        }
      ]
    },
    {
      "cell_type": "markdown",
      "source": [
        "# KNeighborsRegressor"
      ],
      "metadata": {
        "id": "4_0bHhzXguxT"
      }
    },
    {
      "cell_type": "code",
      "source": [
        "from sklearn.model_selection import GridSearchCV\n",
        "from sklearn.neighbors import KNeighborsRegressor\n",
        "\n",
        "KNN = KNeighborsRegressor()\n",
        "param_grid = {'n_neighbors':[1, 3, 5, 7], 'p':[1, 2]}\n",
        "\n",
        "best_knn = GridSearchCV(KNN, param_grid, scoring=('neg_mean_squared_error'), cv=3,error_score='raise')\n",
        "\n"
      ],
      "metadata": {
        "id": "iIyEPES0g5lR"
      },
      "execution_count": null,
      "outputs": []
    },
    {
      "cell_type": "code",
      "source": [
        "model_knn = best_knn.fit(x_treino,y_treino)"
      ],
      "metadata": {
        "id": "ZfXg6Kyvg5lS"
      },
      "execution_count": null,
      "outputs": []
    },
    {
      "cell_type": "code",
      "source": [
        "print(best_knn.best_params_)"
      ],
      "metadata": {
        "colab": {
          "base_uri": "https://localhost:8080/"
        },
        "outputId": "11e82ae2-4e43-40c4-b1b5-2d7b800b6f62",
        "id": "GpkTalIEg5lT"
      },
      "execution_count": null,
      "outputs": [
        {
          "output_type": "stream",
          "name": "stdout",
          "text": [
            "{'n_neighbors': 7, 'p': 2}\n"
          ]
        }
      ]
    },
    {
      "cell_type": "code",
      "source": [
        "y_true, y_pred = y_teste,model_knn.predict(x_teste)"
      ],
      "metadata": {
        "id": "7F3YPfi3kAbY"
      },
      "execution_count": null,
      "outputs": []
    },
    {
      "cell_type": "code",
      "source": [
        "from sklearn.metrics import mean_squared_error\n",
        "mean_squared_error(y_true, y_pred)"
      ],
      "metadata": {
        "colab": {
          "base_uri": "https://localhost:8080/"
        },
        "outputId": "535cc970-c800-4700-f1dd-974d6ce2f43a",
        "id": "s2Y3JlNtkAby"
      },
      "execution_count": null,
      "outputs": [
        {
          "output_type": "execute_result",
          "data": {
            "text/plain": [
              "3999.1272643889015"
            ]
          },
          "metadata": {},
          "execution_count": 255
        }
      ]
    },
    {
      "cell_type": "code",
      "source": [
        "from sklearn.metrics import r2_score\n",
        "r2_score(y_true, y_pred)"
      ],
      "metadata": {
        "colab": {
          "base_uri": "https://localhost:8080/"
        },
        "outputId": "fe70202c-49f3-4956-d76c-11cd272904a0",
        "id": "yH7PqtElkAby"
      },
      "execution_count": null,
      "outputs": [
        {
          "output_type": "execute_result",
          "data": {
            "text/plain": [
              "0.22012789155372325"
            ]
          },
          "metadata": {},
          "execution_count": 256
        }
      ]
    },
    {
      "cell_type": "markdown",
      "source": [
        "# SVR"
      ],
      "metadata": {
        "id": "l5zVUoP8kcy1"
      }
    },
    {
      "cell_type": "code",
      "source": [
        "from sklearn.svm import SVR\n",
        "svr = SVR()"
      ],
      "metadata": {
        "id": "TN8EajCfkeZZ"
      },
      "execution_count": null,
      "outputs": []
    },
    {
      "cell_type": "code",
      "source": [
        "param_grid = {'kernel':['linear', 'poly', 'rbf', 'sigmoid'], 'C':[1, 3, 7],'epsilon':[0.1, 0.2]}\n",
        "\n",
        "best_svr = GridSearchCV(svr, param_grid, scoring=('neg_mean_squared_error'), cv=3)\n"
      ],
      "metadata": {
        "id": "9gIYVp_Nk4YZ"
      },
      "execution_count": null,
      "outputs": []
    },
    {
      "cell_type": "code",
      "source": [
        "model_svr = best_svr.fit(x_treino,y_treino)"
      ],
      "metadata": {
        "id": "uGkDQUyTlAkA"
      },
      "execution_count": null,
      "outputs": []
    },
    {
      "cell_type": "code",
      "source": [
        "print(best_svr.best_params_)"
      ],
      "metadata": {
        "colab": {
          "base_uri": "https://localhost:8080/"
        },
        "id": "GgDkZRb_lEtt",
        "outputId": "b7dbe7fb-ba02-4ec5-d1ad-dc83ab384402"
      },
      "execution_count": null,
      "outputs": [
        {
          "output_type": "stream",
          "name": "stdout",
          "text": [
            "{'C': 7, 'epsilon': 0.1, 'kernel': 'sigmoid'}\n"
          ]
        }
      ]
    },
    {
      "cell_type": "code",
      "source": [
        "y_true, y_pred = y_teste,model_svr.predict(x_teste)"
      ],
      "metadata": {
        "id": "1CJwzY7MlHxD"
      },
      "execution_count": null,
      "outputs": []
    },
    {
      "cell_type": "code",
      "source": [
        "from sklearn.metrics import mean_squared_error\n",
        "mean_squared_error(y_true, y_pred)"
      ],
      "metadata": {
        "colab": {
          "base_uri": "https://localhost:8080/"
        },
        "outputId": "60e2a634-a505-48a7-a4e6-a047c5d3ff9a",
        "id": "ljGtU96ZlHxi"
      },
      "execution_count": null,
      "outputs": [
        {
          "output_type": "execute_result",
          "data": {
            "text/plain": [
              "3285.4633892532006"
            ]
          },
          "metadata": {},
          "execution_count": 262
        }
      ]
    },
    {
      "cell_type": "code",
      "source": [
        "from sklearn.metrics import r2_score\n",
        "r2_score(y_true, y_pred)"
      ],
      "metadata": {
        "colab": {
          "base_uri": "https://localhost:8080/"
        },
        "outputId": "04140bc9-8328-4f52-bfc6-9b0a2a32e88a",
        "id": "40HhXWYelHxj"
      },
      "execution_count": null,
      "outputs": [
        {
          "output_type": "execute_result",
          "data": {
            "text/plain": [
              "0.35929989440046617"
            ]
          },
          "metadata": {},
          "execution_count": 263
        }
      ]
    },
    {
      "cell_type": "markdown",
      "source": [
        "# MLPRegressor"
      ],
      "metadata": {
        "id": "DphNdAn6lRwN"
      }
    },
    {
      "cell_type": "code",
      "source": [
        "from sklearn.neural_network import MLPRegressor\n",
        "\n",
        "mlpr = MLPRegressor(random_state=0, max_iter=9000)"
      ],
      "metadata": {
        "id": "fx3ZmODclS37"
      },
      "execution_count": null,
      "outputs": []
    },
    {
      "cell_type": "code",
      "source": [
        "param_grid = {'hidden_layer_sizes':[50, 30, 10]}\n",
        "\n",
        "best_mlpr = GridSearchCV(mlpr, param_grid, scoring=('neg_mean_squared_error'), cv=3,error_score='raise')\n"
      ],
      "metadata": {
        "id": "O0zWN0J-ljWO"
      },
      "execution_count": null,
      "outputs": []
    },
    {
      "cell_type": "code",
      "source": [
        "model_mlpr = best_mlpr.fit(x_treino,y_treino)"
      ],
      "metadata": {
        "id": "XLErlj_-louv"
      },
      "execution_count": null,
      "outputs": []
    },
    {
      "cell_type": "code",
      "source": [
        "print(best_mlpr.best_params_)"
      ],
      "metadata": {
        "colab": {
          "base_uri": "https://localhost:8080/"
        },
        "outputId": "31e55e84-55f7-407b-93da-f467ecc2eaa4",
        "id": "e9LRwEq7louv"
      },
      "execution_count": null,
      "outputs": [
        {
          "output_type": "stream",
          "name": "stdout",
          "text": [
            "{'hidden_layer_sizes': 10}\n"
          ]
        }
      ]
    },
    {
      "cell_type": "code",
      "source": [
        "y_true, y_pred = y_teste,model_mlpr.predict(x_teste)"
      ],
      "metadata": {
        "id": "xkiaD8T4louw"
      },
      "execution_count": null,
      "outputs": []
    },
    {
      "cell_type": "code",
      "source": [
        "from sklearn.metrics import mean_squared_error\n",
        "mean_squared_error(y_true, y_pred)"
      ],
      "metadata": {
        "colab": {
          "base_uri": "https://localhost:8080/"
        },
        "outputId": "a8c69327-e570-445f-e9db-bc936e093caa",
        "id": "wIGVtgG5louw"
      },
      "execution_count": null,
      "outputs": [
        {
          "output_type": "execute_result",
          "data": {
            "text/plain": [
              "3457.848961283687"
            ]
          },
          "metadata": {},
          "execution_count": 269
        }
      ]
    },
    {
      "cell_type": "code",
      "source": [
        "from sklearn.metrics import r2_score\n",
        "r2_score(y_true, y_pred)"
      ],
      "metadata": {
        "colab": {
          "base_uri": "https://localhost:8080/"
        },
        "outputId": "fdca81c4-f67c-404a-f1cf-6f7e70689e2f",
        "id": "KP9lkPGmloux"
      },
      "execution_count": null,
      "outputs": [
        {
          "output_type": "execute_result",
          "data": {
            "text/plain": [
              "0.325682884828835"
            ]
          },
          "metadata": {},
          "execution_count": 270
        }
      ]
    }
  ]
}